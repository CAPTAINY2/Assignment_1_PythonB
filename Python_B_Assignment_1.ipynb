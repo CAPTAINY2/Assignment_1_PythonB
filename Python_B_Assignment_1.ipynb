{
  "nbformat": 4,
  "nbformat_minor": 0,
  "metadata": {
    "colab": {
      "provenance": [],
      "authorship_tag": "ABX9TyMWOCeGYOvS4rUthAe6vc9w",
      "include_colab_link": true
    },
    "kernelspec": {
      "name": "python3",
      "display_name": "Python 3"
    },
    "language_info": {
      "name": "python"
    }
  },
  "cells": [
    {
      "cell_type": "markdown",
      "metadata": {
        "id": "view-in-github",
        "colab_type": "text"
      },
      "source": [
        "<a href=\"https://colab.research.google.com/github/CAPTAINY2/Assignment_1_PythonB/blob/main/Python_B_Assignment_1.ipynb\" target=\"_parent\"><img src=\"https://colab.research.google.com/assets/colab-badge.svg\" alt=\"Open In Colab\"/></a>"
      ]
    },
    {
      "cell_type": "markdown",
      "source": [
        "### QUESTION-1"
      ],
      "metadata": {
        "id": "7tTnjAx4i6qg"
      }
    },
    {
      "cell_type": "markdown",
      "source": [
        "1. hello is a value (string).\n",
        "2.  -87.8 and 6 are values (floating-point number and integer, respectively).\n",
        "3. * (multiplication), - (subtraction), / (division), and + (addition) are expressions (mathematical operators)."
      ],
      "metadata": {
        "id": "wkFnDWmSi-hm"
      }
    },
    {
      "cell_type": "markdown",
      "source": [
        "### QUESTION-2"
      ],
      "metadata": {
        "id": "s-r5wRfSeJXx"
      }
    },
    {
      "cell_type": "markdown",
      "source": [
        "1. String:\n",
        "\n",
        "(1) A string is a data type that represents a sequence of characters. It is used to store and manipulate text in a program.\n",
        "\n",
        "(2) Strings are usually enclosed in quotation marks, such as single quotes ('') or double quotes (\"\").\n",
        "Example: \"Hello, World!\"\n",
        "\n",
        "\n",
        "2. Variable:\n",
        "\n",
        "(1) A variable is a named storage location in a program that can hold a value. It acts as a container for storing and retrieving data during the execution of a program.\n",
        "\n",
        "(2) Variables are used to store different types of data, including strings, numbers, booleans, and more.\n",
        "\n",
        "(3) Variables are defined using a name and can be assigned a value, which can be of any data type.\n",
        "Example: name = \"John\""
      ],
      "metadata": {
        "id": "NZB6l7V7eMuH"
      }
    },
    {
      "cell_type": "markdown",
      "source": [
        "### QUESTION-3"
      ],
      "metadata": {
        "id": "huK5YnUXejC2"
      }
    },
    {
      "cell_type": "markdown",
      "source": [
        "###1 Integer (int):\n",
        "\n",
        "(1) The integer data type represents whole numbers without any fractional or decimal part.\n",
        "(2) Integers can be positive, negative, or zero.\n",
        "(3) Examples: -5, 0, 10\n",
        "\n",
        "2. String (str):\n",
        "\n",
        "(1) The string data type represents a sequence of characters.\n",
        "(2) Strings are used to store and manipulate textual data.\n",
        "(3) Strings are typically enclosed in quotation marks (single or double).Examples: \"Hello, World!\", 'OpenAI', \"12345\"\n",
        "\n",
        "3. Boolean (bool):\n",
        "\n",
        "(1) The boolean data type represents a binary value that can be either true or false.\n",
        "(2) Booleans are used for logical operations and decision-making in programming.\n",
        "(3) They are often the result of a comparison or a logical operation.\n",
        "Examples: True, False\n"
      ],
      "metadata": {
        "id": "FmpWdQT-enHb"
      }
    },
    {
      "cell_type": "markdown",
      "source": [
        "### QUESTION-4"
      ],
      "metadata": {
        "id": "7E-33ggae1fs"
      }
    },
    {
      "cell_type": "markdown",
      "source": [
        " An expression in programming is made up of one or more operands and operators. It represents a computation or a value that can be evaluated to produce a result. Here's a breakdown of the components of an expression:\n",
        "\n",
        "1. Operands:\n",
        "\n",
        "Operands are the values or variables that participate in an expression.\n",
        "Examples of operands: numbers (e.g., 5, 10.2), strings (e.g., \"Hello\"), variables (e.g., x, y).\n",
        "\n",
        "\n",
        "2. Operators:\n",
        "\n",
        "Operators are symbols or keywords that perform specific operations on operands.\n",
        "Examples of operators: arithmetic operators (+, -, *, /), comparison operators (==, >, <), logical operators (and, or), assignment operator (=).\n",
        "\n",
        "\n",
        "3. Parentheses:\n",
        "\n",
        "Parentheses can be used to group and prioritize sub-expressions within an expression.\n",
        "They control the order of evaluation and can be used to override default precedence rules.\n",
        "\n",
        "\n",
        " Expressions are used in programming to perform computations, make decisions, or produce values. They can be used in assignments, conditionals, loops, function calls, and various other programming constructs. Expressions are evaluated by the programming language's interpreter or compiler, and the result of the evaluation is used for further processing or assignment.\n",
        "\n",
        "Here are some examples of expressions:\n",
        "\n",
        "Arithmetic expression: 2 + 3 * 4 - 5\n",
        "Comparison expression: x > 10\n",
        "Function call expression: print(\"Hello, World!\")\n",
        "Boolean expression: (x > 5) and (y < 8)\n",
        "\n"
      ],
      "metadata": {
        "id": "wkSjRIjfe76T"
      }
    },
    {
      "cell_type": "markdown",
      "source": [
        "### QUESTION-5"
      ],
      "metadata": {
        "id": "4fe9OBpmfitI"
      }
    },
    {
      "cell_type": "markdown",
      "source": [
        "1. Expression:\n",
        "\n",
        "An expression is a combination of operands and operators that can be evaluated to produce a value.\n",
        "It represents a computation or a value that can be used as part of a larger expression, as an argument to a function, or for assignment.\n",
        "Examples of expressions: 5 + 3, x * y, \"Hello, \" + name, 3 > 2\n",
        "\n",
        "2. Statement:\n",
        "\n",
        "A statement is a complete unit of code that performs an action or a sequence of actions.\n",
        "It represents a command or an instruction that the program executes.\n",
        "Statements typically have side effects, such as modifying variables or controlling the program's flow.\n",
        "Examples of statements: assignment statements (spam = 10), conditional statements (if, else), loops (for, while), function declarations, and function calls."
      ],
      "metadata": {
        "id": "gjdGQNGrfSnK"
      }
    },
    {
      "cell_type": "markdown",
      "source": [
        "### QUESTION-6"
      ],
      "metadata": {
        "id": "usN3JHf0bSmV"
      }
    },
    {
      "cell_type": "code",
      "source": [
        "bacon = 22\n",
        "bacon + 1\n"
      ],
      "metadata": {
        "colab": {
          "base_uri": "https://localhost:8080/"
        },
        "id": "th54_lxGbMrC",
        "outputId": "c8480866-88db-413f-953e-1eb3a31ff555"
      },
      "execution_count": 7,
      "outputs": [
        {
          "output_type": "execute_result",
          "data": {
            "text/plain": [
              "23"
            ]
          },
          "metadata": {},
          "execution_count": 7
        }
      ]
    },
    {
      "cell_type": "markdown",
      "source": [
        "### QUESTION-7"
      ],
      "metadata": {
        "id": "RA9ruszubrPo"
      }
    },
    {
      "cell_type": "markdown",
      "source": [
        "'spam' + 'spamspam' = \"spamspamspam\"\n",
        "\n",
        "'spam' * 3 = \"spamspamspam\""
      ],
      "metadata": {
        "id": "6Tsa_F8UcXZi"
      }
    },
    {
      "cell_type": "markdown",
      "source": [
        "###  QUESTION-8"
      ],
      "metadata": {
        "id": "kEOvRl-tcyOk"
      }
    },
    {
      "cell_type": "markdown",
      "source": [
        "In the case of 'eggs', it starts with a letter 'e' and only contains letters, which makes it a valid variable name.\n",
        "\n",
        "On the other hand, '100' starts with a digit, which violates the rule that a variable name must start with a letter or an underscore. Therefore, '100' is considered an invalid variable name.\n",
        "\n",
        "It's important to choose meaningful and descriptive variable names that adhere to the naming rules in order to write clean and readable code."
      ],
      "metadata": {
        "id": "O3HBvLdIc1I9"
      }
    },
    {
      "cell_type": "markdown",
      "source": [
        "### QUESTION-9"
      ],
      "metadata": {
        "id": "fQdSHCePdGxs"
      }
    },
    {
      "cell_type": "markdown",
      "source": [
        "1. Integer Conversion: int()\n",
        "\n",
        "The int() function can be used to convert a value to an integer.\n",
        "It takes a single argument and returns the integer representation of the value.\n",
        "If the argument is a string containing a valid integer representation, it will be converted to an integer.\n",
        "Example: int('10') would return the integer 10.\n",
        "\n",
        "2. Floating-Point Conversion: float()\n",
        "\n",
        "The float() function can be used to convert a value to a floating-point number.\n",
        "It takes a single argument and returns the floating-point representation of the value.\n",
        "If the argument is a string containing a valid floating-point representation, it will be converted to a float.\n",
        "Example: float('3.14') would return the float 3.14.\n",
        "\n",
        "3. String Conversion: str()\n",
        "\n",
        "The str() function can be used to convert a value to a string.\n",
        "It takes a single argument and returns the string representation of the value.\n",
        "The argument can be of any data type, and it will be converted to a string representation.\n",
        "Example: str(42) would return the string '42'."
      ],
      "metadata": {
        "id": "iaw8RmsQdJ9n"
      }
    },
    {
      "cell_type": "markdown",
      "source": [
        "### QUESTION-10"
      ],
      "metadata": {
        "id": "sBSCoVE9d6Sh"
      }
    },
    {
      "cell_type": "markdown",
      "source": [
        "1. By Using explicit type conversion:\n",
        "\n",
        "Convert the integer 99 to a string using the str() function before concatenating it with the other strings.\n",
        "Example: 'I have eaten' + str(99) + 'burritos'"
      ],
      "metadata": {
        "id": "LBIh0eHDd9c3"
      }
    }
  ]
}